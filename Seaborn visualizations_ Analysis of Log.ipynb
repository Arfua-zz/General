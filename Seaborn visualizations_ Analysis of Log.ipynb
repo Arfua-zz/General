{
 "cells": [
  {
   "cell_type": "code",
   "execution_count": 87,
   "metadata": {
    "collapsed": true
   },
   "outputs": [],
   "source": [
    "from pandas import Series, DataFrame\n",
    "import pandas as pd\n",
    "import numpy as np\n",
    "import os\n",
    "import matplotlib.pylab as plt\n",
    "%matplotlib inline\n",
    "from numpy.random import RandomState\n",
    "import copy\n",
    "import csv\n",
    "\n",
    "from sklearn.neighbors import NearestNeighbors"
   ]
  },
  {
   "cell_type": "code",
   "execution_count": 88,
   "metadata": {
    "collapsed": true
   },
   "outputs": [],
   "source": [
    "data_train = pd.read_excel(r'A:\\PROGRAMMING\\Log analysis with IPython\\DMP_for_test.xlsx')"
   ]
  },
  {
   "cell_type": "code",
   "execution_count": 89,
   "metadata": {
    "collapsed": false
   },
   "outputs": [
    {
     "data": {
      "text/plain": [
       "(33857, 10)"
      ]
     },
     "execution_count": 89,
     "metadata": {},
     "output_type": "execute_result"
    }
   ],
   "source": [
    "data_train.shape"
   ]
  },
  {
   "cell_type": "code",
   "execution_count": 90,
   "metadata": {
    "collapsed": false
   },
   "outputs": [
    {
     "data": {
      "text/html": [
       "<div>\n",
       "<table border=\"1\" class=\"dataframe\">\n",
       "  <thead>\n",
       "    <tr style=\"text-align: right;\">\n",
       "      <th></th>\n",
       "      <th>time</th>\n",
       "      <th>cookie</th>\n",
       "      <th>uid</th>\n",
       "      <th>resolution_w</th>\n",
       "      <th>resolution_h</th>\n",
       "      <th>event</th>\n",
       "      <th>os</th>\n",
       "      <th>browser</th>\n",
       "      <th>gamecode</th>\n",
       "      <th>gametype</th>\n",
       "    </tr>\n",
       "  </thead>\n",
       "  <tbody>\n",
       "    <tr>\n",
       "      <th>count</th>\n",
       "      <td>33857</td>\n",
       "      <td>33857</td>\n",
       "      <td>23472</td>\n",
       "      <td>33857.000000</td>\n",
       "      <td>33857.000000</td>\n",
       "      <td>33857</td>\n",
       "      <td>33857</td>\n",
       "      <td>33857</td>\n",
       "      <td>26845</td>\n",
       "      <td>26845</td>\n",
       "    </tr>\n",
       "    <tr>\n",
       "      <th>unique</th>\n",
       "      <td>23792</td>\n",
       "      <td>3165</td>\n",
       "      <td>98</td>\n",
       "      <td>NaN</td>\n",
       "      <td>NaN</td>\n",
       "      <td>8</td>\n",
       "      <td>15</td>\n",
       "      <td>11</td>\n",
       "      <td>89</td>\n",
       "      <td>2</td>\n",
       "    </tr>\n",
       "    <tr>\n",
       "      <th>top</th>\n",
       "      <td>13:00:34</td>\n",
       "      <td>V5XZi8822CzRnw</td>\n",
       "      <td>10287698587830</td>\n",
       "      <td>NaN</td>\n",
       "      <td>NaN</td>\n",
       "      <td>round</td>\n",
       "      <td>Windows7</td>\n",
       "      <td>Chrome</td>\n",
       "      <td>book_of_ra2_gift</td>\n",
       "      <td>real</td>\n",
       "    </tr>\n",
       "    <tr>\n",
       "      <th>freq</th>\n",
       "      <td>10</td>\n",
       "      <td>3648</td>\n",
       "      <td>4235</td>\n",
       "      <td>NaN</td>\n",
       "      <td>NaN</td>\n",
       "      <td>26254</td>\n",
       "      <td>14935</td>\n",
       "      <td>16996</td>\n",
       "      <td>4346</td>\n",
       "      <td>18623</td>\n",
       "    </tr>\n",
       "    <tr>\n",
       "      <th>mean</th>\n",
       "      <td>NaN</td>\n",
       "      <td>NaN</td>\n",
       "      <td>NaN</td>\n",
       "      <td>1352.407183</td>\n",
       "      <td>856.188853</td>\n",
       "      <td>NaN</td>\n",
       "      <td>NaN</td>\n",
       "      <td>NaN</td>\n",
       "      <td>NaN</td>\n",
       "      <td>NaN</td>\n",
       "    </tr>\n",
       "    <tr>\n",
       "      <th>std</th>\n",
       "      <td>NaN</td>\n",
       "      <td>NaN</td>\n",
       "      <td>NaN</td>\n",
       "      <td>381.823663</td>\n",
       "      <td>154.836394</td>\n",
       "      <td>NaN</td>\n",
       "      <td>NaN</td>\n",
       "      <td>NaN</td>\n",
       "      <td>NaN</td>\n",
       "      <td>NaN</td>\n",
       "    </tr>\n",
       "    <tr>\n",
       "      <th>min</th>\n",
       "      <td>NaN</td>\n",
       "      <td>NaN</td>\n",
       "      <td>NaN</td>\n",
       "      <td>320.000000</td>\n",
       "      <td>320.000000</td>\n",
       "      <td>NaN</td>\n",
       "      <td>NaN</td>\n",
       "      <td>NaN</td>\n",
       "      <td>NaN</td>\n",
       "      <td>NaN</td>\n",
       "    </tr>\n",
       "    <tr>\n",
       "      <th>25%</th>\n",
       "      <td>NaN</td>\n",
       "      <td>NaN</td>\n",
       "      <td>NaN</td>\n",
       "      <td>1024.000000</td>\n",
       "      <td>768.000000</td>\n",
       "      <td>NaN</td>\n",
       "      <td>NaN</td>\n",
       "      <td>NaN</td>\n",
       "      <td>NaN</td>\n",
       "      <td>NaN</td>\n",
       "    </tr>\n",
       "    <tr>\n",
       "      <th>50%</th>\n",
       "      <td>NaN</td>\n",
       "      <td>NaN</td>\n",
       "      <td>NaN</td>\n",
       "      <td>1280.000000</td>\n",
       "      <td>800.000000</td>\n",
       "      <td>NaN</td>\n",
       "      <td>NaN</td>\n",
       "      <td>NaN</td>\n",
       "      <td>NaN</td>\n",
       "      <td>NaN</td>\n",
       "    </tr>\n",
       "    <tr>\n",
       "      <th>75%</th>\n",
       "      <td>NaN</td>\n",
       "      <td>NaN</td>\n",
       "      <td>NaN</td>\n",
       "      <td>1600.000000</td>\n",
       "      <td>1024.000000</td>\n",
       "      <td>NaN</td>\n",
       "      <td>NaN</td>\n",
       "      <td>NaN</td>\n",
       "      <td>NaN</td>\n",
       "      <td>NaN</td>\n",
       "    </tr>\n",
       "    <tr>\n",
       "      <th>max</th>\n",
       "      <td>NaN</td>\n",
       "      <td>NaN</td>\n",
       "      <td>NaN</td>\n",
       "      <td>2695.000000</td>\n",
       "      <td>1516.000000</td>\n",
       "      <td>NaN</td>\n",
       "      <td>NaN</td>\n",
       "      <td>NaN</td>\n",
       "      <td>NaN</td>\n",
       "      <td>NaN</td>\n",
       "    </tr>\n",
       "  </tbody>\n",
       "</table>\n",
       "</div>"
      ],
      "text/plain": [
       "            time          cookie             uid  resolution_w  resolution_h  \\\n",
       "count      33857           33857           23472  33857.000000  33857.000000   \n",
       "unique     23792            3165              98           NaN           NaN   \n",
       "top     13:00:34  V5XZi8822CzRnw  10287698587830           NaN           NaN   \n",
       "freq          10            3648            4235           NaN           NaN   \n",
       "mean         NaN             NaN             NaN   1352.407183    856.188853   \n",
       "std          NaN             NaN             NaN    381.823663    154.836394   \n",
       "min          NaN             NaN             NaN    320.000000    320.000000   \n",
       "25%          NaN             NaN             NaN   1024.000000    768.000000   \n",
       "50%          NaN             NaN             NaN   1280.000000    800.000000   \n",
       "75%          NaN             NaN             NaN   1600.000000   1024.000000   \n",
       "max          NaN             NaN             NaN   2695.000000   1516.000000   \n",
       "\n",
       "        event        os browser          gamecode gametype  \n",
       "count   33857     33857   33857             26845    26845  \n",
       "unique      8        15      11                89        2  \n",
       "top     round  Windows7  Chrome  book_of_ra2_gift     real  \n",
       "freq    26254     14935   16996              4346    18623  \n",
       "mean      NaN       NaN     NaN               NaN      NaN  \n",
       "std       NaN       NaN     NaN               NaN      NaN  \n",
       "min       NaN       NaN     NaN               NaN      NaN  \n",
       "25%       NaN       NaN     NaN               NaN      NaN  \n",
       "50%       NaN       NaN     NaN               NaN      NaN  \n",
       "75%       NaN       NaN     NaN               NaN      NaN  \n",
       "max       NaN       NaN     NaN               NaN      NaN  "
      ]
     },
     "execution_count": 90,
     "metadata": {},
     "output_type": "execute_result"
    }
   ],
   "source": [
    "data_train.describe(include = 'all')"
   ]
  },
  {
   "cell_type": "code",
   "execution_count": 91,
   "metadata": {
    "collapsed": false
   },
   "outputs": [
    {
     "data": {
      "image/png": "[encoded data removed]",
      "text/plain": [
       "<matplotlib.figure.Figure at 0x17f06787668>"
      ]
     },
     "metadata": {},
     "output_type": "display_data"
    }
   ],
   "source": [
    "import seaborn as sns\n",
    "import matplotlib.pyplot as plt\n",
    "# preferred continent destinations\n",
    "sns.countplot(x='resolution_h', data=data_train)\n",
    "sns.plt.show()"
   ]
  },
  {
   "cell_type": "code",
   "execution_count": 92,
   "metadata": {
    "collapsed": false
   },
   "outputs": [],
   "source": [
    "# plot all columns countplots\n",
    "def show_four_histograms(to_show, data):\n",
    "    fig, axes = plt.subplots(nrows=2, ncols=2, figsize=(8,12))\n",
    "    fig.tight_layout()\n",
    "    i = 0\n",
    "    j = 0\n",
    "    for col in to_show:\n",
    "        if j >= 2:\n",
    "            j = 0\n",
    "            i += 1\n",
    "        # avoid to plot by date    \n",
    "        #if data_train[col].dtype == np.int64:\n",
    "        sns.countplot(x=col, data=data, ax=axes[i][j], label = col)\n",
    "        j += 1\n",
    "    sns.plt.show()"
   ]
  },
  {
   "cell_type": "code",
   "execution_count": 93,
   "metadata": {
    "collapsed": false
   },
   "outputs": [],
   "source": [
    "def show_two_histograms(to_show, data):\n",
    "    fig, axes = plt.subplots(nrows=2, ncols=1, figsize=(8,10))\n",
    "    fig.tight_layout()\n",
    "    sns.countplot(x=to_show[0], data=data, ax=axes[0], label = to_show[0])\n",
    "    sns.countplot(x=to_show[1], data=data, ax=axes[1], label = to_show[1])\n",
    "    sns.plt.show()"
   ]
  },
  {
   "cell_type": "code",
   "execution_count": 94,
   "metadata": {
    "collapsed": false
   },
   "outputs": [
    {
     "data": {
      "image/png": "[encoded data removed]",
      "text/plain": [
       "<matplotlib.figure.Figure at 0x17f035ad400>"
      ]
     },
     "metadata": {},
     "output_type": "display_data"
    }
   ],
   "source": [
    "show_two_histograms(['resolution_w', 'resolution_h'], data_train)"
   ]
  },
  {
   "cell_type": "code",
   "execution_count": 95,
   "metadata": {
    "collapsed": false
   },
   "outputs": [
    {
     "data": {
      "image/png": "[encoded data removed]",
      "text/plain": [
       "<matplotlib.figure.Figure at 0x17f7128f320>"
      ]
     },
     "metadata": {},
     "output_type": "display_data"
    }
   ],
   "source": [
    "show_two_histograms(['os', 'browser'], data_train)"
   ]
  },
  {
   "cell_type": "code",
   "execution_count": 96,
   "metadata": {
    "collapsed": false
   },
   "outputs": [
    {
     "data": {
      "image/png": "[encoded data removed]",
      "text/plain": [
       "<matplotlib.figure.Figure at 0x17f70eed860>"
      ]
     },
     "metadata": {},
     "output_type": "display_data"
    }
   ],
   "source": [
    "show_four_histograms(['browser', 'event', 'gamecode', 'gametype'], data_train)"
   ]
  },
  {
   "cell_type": "code",
   "execution_count": 97,
   "metadata": {
    "collapsed": false
   },
   "outputs": [
    {
     "data": {
      "image/png": "[encoded data removed]",
      "text/plain": [
       "<matplotlib.figure.Figure at 0x17f72967fd0>"
      ]
     },
     "metadata": {},
     "output_type": "display_data"
    }
   ],
   "source": [
    "# distribution of gametype for different OS\n",
    "sns.countplot(x='os', hue='gametype', data = data_train)\n",
    "sns.plt.show()"
   ]
  },
  {
   "cell_type": "code",
   "execution_count": 98,
   "metadata": {
    "collapsed": false
   },
   "outputs": [
    {
     "data": {
      "image/png": "[encoded data removed]",
      "text/plain": [
       "<matplotlib.figure.Figure at 0x17f0374a630>"
      ]
     },
     "metadata": {},
     "output_type": "display_data"
    }
   ],
   "source": [
    "# distribution of gametype for different Browser\n",
    "sns.countplot(x='browser', hue='gametype', data = data_train)\n",
    "sns.plt.show()"
   ]
  },
  {
   "cell_type": "code",
   "execution_count": 99,
   "metadata": {
    "collapsed": false
   },
   "outputs": [
    {
     "data": {
      "image/png": "[encoded data removed]",
      "text/plain": [
       "<matplotlib.figure.Figure at 0x17f0374d470>"
      ]
     },
     "metadata": {},
     "output_type": "display_data"
    }
   ],
   "source": [
    "# distribution of browser used for different OS\n",
    "sns.countplot(x='os', hue='browser', data = data_train)\n",
    "sns.plt.show()"
   ]
  },
  {
   "cell_type": "code",
   "execution_count": null,
   "metadata": {
    "collapsed": true
   },
   "outputs": [],
   "source": []
  },
  {
   "cell_type": "code",
   "execution_count": 100,
   "metadata": {
    "collapsed": false
   },
   "outputs": [
    {
     "name": "stdout",
     "output_type": "stream",
     "text": [
      "18623\n",
      "8222\n"
     ]
    }
   ],
   "source": [
    "print(sum(data_train.gametype == 'real'))\n",
    "print(sum(data_train.gametype == 'demo'))"
   ]
  },
  {
   "cell_type": "code",
   "execution_count": 101,
   "metadata": {
    "collapsed": false
   },
   "outputs": [
    {
     "data": {
      "text/plain": [
       "time            33857\n",
       "cookie          33857\n",
       "uid             23472\n",
       "resolution_w    33857\n",
       "resolution_h    33857\n",
       "event           33857\n",
       "os              33857\n",
       "browser         33857\n",
       "gamecode        26845\n",
       "gametype        26845\n",
       "dtype: int64"
      ]
     },
     "execution_count": 101,
     "metadata": {},
     "output_type": "execute_result"
    }
   ],
   "source": [
    "data_train.count()"
   ]
  },
  {
   "cell_type": "code",
   "execution_count": 102,
   "metadata": {
    "collapsed": false
   },
   "outputs": [],
   "source": [
    "# find gamecodes that are used for demo and for real gaming:\n",
    "demo_data = data_train[data_train.gametype == 'demo']\n",
    "real_data = data_train[data_train.gametype == 'real']"
   ]
  },
  {
   "cell_type": "code",
   "execution_count": 103,
   "metadata": {
    "collapsed": false
   },
   "outputs": [
    {
     "name": "stdout",
     "output_type": "stream",
     "text": [
      "Gamecodes that are present for both, DEMO and REAL gaming:\n",
      " ['wild_hunter_b', 'roulette_with_track', 'blackjack_vabank', 'fantastic_four', 'french_roulette_track', 'faust', 'moorhuhn', 'book_of_ra_deluxe_6reels', 'crazy_monkey_deluxe', 'book_of_maya', 'burlesque_queen', 'king_of_cards', 'crazy_fruit_urartu', 'lucky_ladies_charm2_gift', 'incredible_hulk_gift', 'riches_of_cleopatra', 'magic_forest_b', 'dolphins_pearl2_o_gift', 'caribbeanpoker', 'roulette', 'resident2', 'crazy_monkey_gift', 'fairy_land', 'lord_ocean_deluxe', 'book_of_ra2_gift', 'book_of_ra2_deluxe', 'fruit_cocktail', 'aquatica_b']\n",
      "\n",
      "Different events for demo and for real gaming:  ['gamestart', 'round', 'gameend'] ['round', 'gamestart', 'gameend']\n"
     ]
    }
   ],
   "source": [
    "games_used_for_demo_and_real = list(set(demo_data.gamecode).intersection(real_data.gamecode))\n",
    "events_for_demo = list(set(demo_data.event))\n",
    "events_for_real = list(set(real_data.event))\n",
    "print('Gamecodes that are present for both, DEMO and REAL gaming:\\n', games_used_for_demo_and_real)\n",
    "print('\\nDifferent events for demo and for real gaming: ', events_for_demo, events_for_real)"
   ]
  },
  {
   "cell_type": "code",
   "execution_count": 104,
   "metadata": {
    "collapsed": false
   },
   "outputs": [
    {
     "name": "stdout",
     "output_type": "stream",
     "text": [
      "(8222, 10) (18623, 10)\n"
     ]
    }
   ],
   "source": [
    "print(demo_data.shape, real_data.shape)"
   ]
  },
  {
   "cell_type": "code",
   "execution_count": 105,
   "metadata": {
    "collapsed": false
   },
   "outputs": [
    {
     "data": {
      "image/png": "[encoded data removed]",
      "text/plain": [
       "<matplotlib.figure.Figure at 0x17f0177add8>"
      ]
     },
     "metadata": {},
     "output_type": "display_data"
    }
   ],
   "source": [
    "## Distribution of browser used by OS for DEMO and for REAL gaming:\n",
    "\n",
    "fig, axes = plt.subplots(nrows=2, ncols=1, figsize=(8,8))\n",
    "fig.tight_layout()\n",
    "colors = {'Chrome':'green', 'Safari': 'yellow', 'Firefox' : 'orange', 'Yandex':'blue', 'IE':'black', 'Opera':'red'}\n",
    "sns.countplot(x='os', hue='browser', data=demo_data, ax=axes[0], palette = colors)\n",
    "axes[0].set_title('Browser by OS for DEMO gaming')\n",
    "sns.countplot(x='os', hue='browser', data=real_data, ax=axes[1], palette = colors)\n",
    "axes[1].set_title('Browser by OS for REAL gaming')\n",
    "sns.plt.show()"
   ]
  },
  {
   "cell_type": "code",
   "execution_count": 106,
   "metadata": {
    "collapsed": false
   },
   "outputs": [],
   "source": [
    "\n",
    "\n",
    "## LET'S ADD DAY PERIOD FEATURE\n",
    "## let 0-6 is 'night' - 0, 6-12 is 'morning' - 1, 12-18 is 'day' - 2, 18-24 is 'evening' - 3\n",
    "import datetime\n",
    "time_period = list()\n",
    "for i in range(data_train.shape[0]):\n",
    "    if data_train.time[i] < datetime.time(6, 0, 0):\n",
    "        time_period.append(0)\n",
    "    elif datetime.time(6, 0, 0) <= data_train.time[i] < datetime.time(12, 0, 0):\n",
    "        time_period.append(1)\n",
    "    elif datetime.time(12, 0, 0) <= data_train.time[i] < datetime.time(18, 0, 0):\n",
    "        time_period.append(2)\n",
    "    else:\n",
    "        time_period.append(3)\n",
    "data_train['time_period'] = time_period\n",
    "\n",
    "## drop NAs\n",
    "cleaned_data = data_train.dropna()"
   ]
  },
  {
   "cell_type": "code",
   "execution_count": 107,
   "metadata": {
    "collapsed": false
   },
   "outputs": [
    {
     "name": "stderr",
     "output_type": "stream",
     "text": [
      "C:\\Users\\user\\Anaconda3\\lib\\site-packages\\ipykernel\\__main__.py:8: SettingWithCopyWarning: \n",
      "A value is trying to be set on a copy of a slice from a DataFrame.\n",
      "Try using .loc[row_indexer,col_indexer] = value instead\n",
      "\n",
      "See the caveats in the documentation: http://pandas.pydata.org/pandas-docs/stable/indexing.html#indexing-view-versus-copy\n"
     ]
    }
   ],
   "source": [
    "### use label encoder to create numerical categorical variables:\n",
    "from sklearn.preprocessing import LabelEncoder\n",
    "\n",
    "categorical_features = ['os', 'browser', 'gamecode', 'gametype']\n",
    "for f in categorical_features:\n",
    "    lbl_enc = LabelEncoder()\n",
    "    new_feature_name = f + '_ix'\n",
    "    cleaned_data[new_feature_name] = lbl_enc.fit_transform(cleaned_data[f])\n",
    "    "
   ]
  },
  {
   "cell_type": "code",
   "execution_count": 108,
   "metadata": {
    "collapsed": false
   },
   "outputs": [
    {
     "data": {
      "image/png": "[encoded data removed]",
      "text/plain": [
       "<matplotlib.figure.Figure at 0x17f70dd2780>"
      ]
     },
     "metadata": {},
     "output_type": "display_data"
    }
   ],
   "source": [
    "## Investigate day_period:\n",
    "# distribution of gametype for different OS\n",
    "sns.countplot(x='time_period', hue='gametype', data = data_train)\n",
    "sns.plt.show()\n"
   ]
  },
  {
   "cell_type": "code",
   "execution_count": 109,
   "metadata": {
    "collapsed": false
   },
   "outputs": [
    {
     "name": "stdout",
     "output_type": "stream",
     "text": [
      "Games that are played in ALL the periods:\n",
      " ['crazy_monkey_gift', 'roulette', 'book_of_ra2_gift']\n",
      "\n",
      "Games that are played in the NIGHT AND in the DAY:\n",
      " {'book_of_maya', 'burlesque_queen', 'lord_ocean_deluxe', 'book_of_ra2_gift', 'iron_man_3', 'gonzo_quest', 'pharaonsrings_deluxe', 'fruit_cocktail', 'fruit_sensation_deluxe', 'roulette', 'faust', 'lucky_ladies_charm2_gift', 'safari_heat', 'draculas_family_a', 'elven_princess', 'pirate2', 'crazy_monkey_gift'}\n",
      "\n",
      "Games that are played ONLY in the NIGHT:\n",
      " {'banana_splash2', 'king_of_cards', 'reel_attraction'}\n",
      "\n",
      "Games that are played ONLY in the DAY:\n",
      " {'spinning_fruits', 'book_of_stars', 'jackpot_crown_deluxe', 'lucky_ladies_charm2_deluxe', 'fairyqueen_deluxe', 'circus_hd', 'golden_sevens_deluxe', 'notre_dames', 'diamond_trio', 'nightout', 'blood_suckers', 'moneygame2_o', 'sevenswild', 'sweet_life2', 'always_hot_deluxe', 'sizzling_hot_quatro', 'deuceswild', 'desert_treasures', 'dolphins_pearl2_o_gift', 'beetlmania_deluxe', 'aces_and_faces', 'deuces_and_joker', 'lucky_haunter2', 'zoloto_partii', 'mystic_secrets_deluxe', 'flamedancer_deluxe', 'golden_ark_deluxe', 'treasures_of_tombs_free', 'bananagobahamas2_o'}\n",
      "\n",
      "Games that are played ONLY in the MORNING:\n",
      " {'alchemist', 'french_roulette_tr3', 'caribbeanpoker', 'pirat_hd', 'french_roulette_tr2', 'roulette_card', 'blackjack', 'zombirthday_b'}\n",
      "\n",
      "Games that are played ONLY in the EVENING:\n",
      " {'sharky3', 'merry_christmas_b', 'roulette_zero_less', 'aquatica_b', 'bazar', 'moorhuhn'}\n"
     ]
    }
   ],
   "source": [
    "## DISTRIBUTION OF GAMES DURING THE DAY:\n",
    "night = set(cleaned_data[cleaned_data.time_period == 0].gamecode)\n",
    "morning = set(cleaned_data[cleaned_data.time_period == 1].gamecode)\n",
    "day = set(cleaned_data[cleaned_data.time_period == 2].gamecode)\n",
    "evening = set(cleaned_data[cleaned_data.time_period == 3].gamecode)\n",
    "print('Games that are played in ALL the periods:\\n',\n",
    "list(night.intersection(day).intersection(morning).intersection(evening)))\n",
    "print('\\nGames that are played in the NIGHT AND in the DAY:\\n',night.intersection(day))\n",
    "print('\\nGames that are played ONLY in the NIGHT:\\n', night - day - morning - evening)\n",
    "print('\\nGames that are played ONLY in the DAY:\\n', day - night - morning - evening)\n",
    "print('\\nGames that are played ONLY in the MORNING:\\n', morning - day - night - evening)\n",
    "print('\\nGames that are played ONLY in the EVENING:\\n', evening - day - night - morning)"
   ]
  },
  {
   "cell_type": "code",
   "execution_count": 110,
   "metadata": {
    "collapsed": false
   },
   "outputs": [],
   "source": [
    "## LET'S PREIDCT GAME TYPE WITHOUT GAME CODE :\n",
    "\n",
    "import sklearn.metrics\n",
    "from sklearn.utils import shuffle\n",
    "from sklearn import cross_validation as cv\n",
    "from sklearn.linear_model import RidgeClassifier\n",
    "from sklearn.ensemble import RandomForestClassifier\n",
    "from sklearn.ensemble import ExtraTreesClassifier"
   ]
  },
  {
   "cell_type": "code",
   "execution_count": 111,
   "metadata": {
    "collapsed": false
   },
   "outputs": [
    {
     "data": {
      "text/plain": [
       "array([ 0.99486741,  0.99358426,  0.99144568,  0.99400941,  0.98930252,\n",
       "        0.99186992,  0.98801883,  0.99229782,  0.98801883,  0.9927226 ])"
      ]
     },
     "execution_count": 111,
     "metadata": {},
     "output_type": "execute_result"
    }
   ],
   "source": [
    "features_to_predict_gametype = ['os_ix', 'browser_ix', 'resolution_w', 'resolution_h', 'gamecode_ix', 'time_period']\n",
    "skf = cv.StratifiedKFold(cleaned_data['gametype_ix'], n_folds=10, shuffle=True)\n",
    "cv.cross_val_score(RandomForestClassifier(), cleaned_data[features_to_predict_gametype], \n",
    "                   cleaned_data['gametype_ix'], cv=skf, )"
   ]
  },
  {
   "cell_type": "code",
   "execution_count": 112,
   "metadata": {
    "collapsed": true
   },
   "outputs": [],
   "source": [
    "import xgboost as xgb\n",
    "from xgboost import XGBClassifier"
   ]
  },
  {
   "cell_type": "code",
   "execution_count": 113,
   "metadata": {
    "collapsed": false
   },
   "outputs": [
    {
     "name": "stdout",
     "output_type": "stream",
     "text": [
      "[ 0.98545766  0.98417451  0.98289136  0.98416774  0.98630723  0.98373984\n",
      "  0.98844673  0.98459564  0.98587933  0.98116438]\n",
      "[ 0.98545766  0.98417451  0.98289136  0.98416774  0.98630723  0.98373984\n",
      "  0.98844673  0.98459564  0.98587933  0.98116438]\n",
      "[ 0.98545766  0.98417451  0.98289136  0.98416774  0.98630723  0.98373984\n",
      "  0.98844673  0.98459564  0.98587933  0.98116438]\n"
     ]
    }
   ],
   "source": [
    "features_to_predict_gametype = ['os_ix','browser_ix', 'resolution_w', 'resolution_h', 'time_period']\n",
    "#features_to_predict_gametype = ['browser_ix',]\n",
    "X, y = shuffle(cleaned_data[features_to_predict_gametype], cleaned_data['gametype_ix'])\n",
    "#skf = cv.StratifiedKFold(y, n_folds=10, shuffle=True)\n",
    "score_metric = 'accuracy'\n",
    "def score_model(model):\n",
    "    return cv.cross_val_score(model, X, y, cv=10, scoring=score_metric)\n",
    "for model in [XGBClassifier(), ExtraTreesClassifier(), RandomForestClassifier()]:\n",
    "    print(score_model(model))"
   ]
  },
  {
   "cell_type": "code",
   "execution_count": 114,
   "metadata": {
    "collapsed": false
   },
   "outputs": [
    {
     "data": {
      "text/html": [
       "<div>\n",
       "<table border=\"1\" class=\"dataframe\">\n",
       "  <thead>\n",
       "    <tr style=\"text-align: right;\">\n",
       "      <th></th>\n",
       "      <th>resolution_w</th>\n",
       "      <th>resolution_h</th>\n",
       "      <th>time_period</th>\n",
       "      <th>os_ix</th>\n",
       "      <th>browser_ix</th>\n",
       "      <th>gamecode_ix</th>\n",
       "      <th>gametype_ix</th>\n",
       "    </tr>\n",
       "  </thead>\n",
       "  <tbody>\n",
       "    <tr>\n",
       "      <th>resolution_w</th>\n",
       "      <td>1.000000</td>\n",
       "      <td>0.815010</td>\n",
       "      <td>0.119446</td>\n",
       "      <td>-0.414297</td>\n",
       "      <td>-0.039691</td>\n",
       "      <td>-0.084726</td>\n",
       "      <td>0.074466</td>\n",
       "    </tr>\n",
       "    <tr>\n",
       "      <th>resolution_h</th>\n",
       "      <td>0.815010</td>\n",
       "      <td>1.000000</td>\n",
       "      <td>0.085293</td>\n",
       "      <td>-0.367654</td>\n",
       "      <td>-0.113309</td>\n",
       "      <td>0.017866</td>\n",
       "      <td>-0.222174</td>\n",
       "    </tr>\n",
       "    <tr>\n",
       "      <th>time_period</th>\n",
       "      <td>0.119446</td>\n",
       "      <td>0.085293</td>\n",
       "      <td>1.000000</td>\n",
       "      <td>0.177907</td>\n",
       "      <td>0.118424</td>\n",
       "      <td>-0.076048</td>\n",
       "      <td>0.161922</td>\n",
       "    </tr>\n",
       "    <tr>\n",
       "      <th>os_ix</th>\n",
       "      <td>-0.414297</td>\n",
       "      <td>-0.367654</td>\n",
       "      <td>0.177907</td>\n",
       "      <td>1.000000</td>\n",
       "      <td>0.549038</td>\n",
       "      <td>0.045744</td>\n",
       "      <td>0.160718</td>\n",
       "    </tr>\n",
       "    <tr>\n",
       "      <th>browser_ix</th>\n",
       "      <td>-0.039691</td>\n",
       "      <td>-0.113309</td>\n",
       "      <td>0.118424</td>\n",
       "      <td>0.549038</td>\n",
       "      <td>1.000000</td>\n",
       "      <td>0.015586</td>\n",
       "      <td>0.377230</td>\n",
       "    </tr>\n",
       "    <tr>\n",
       "      <th>gamecode_ix</th>\n",
       "      <td>-0.084726</td>\n",
       "      <td>0.017866</td>\n",
       "      <td>-0.076048</td>\n",
       "      <td>0.045744</td>\n",
       "      <td>0.015586</td>\n",
       "      <td>1.000000</td>\n",
       "      <td>0.099180</td>\n",
       "    </tr>\n",
       "    <tr>\n",
       "      <th>gametype_ix</th>\n",
       "      <td>0.074466</td>\n",
       "      <td>-0.222174</td>\n",
       "      <td>0.161922</td>\n",
       "      <td>0.160718</td>\n",
       "      <td>0.377230</td>\n",
       "      <td>0.099180</td>\n",
       "      <td>1.000000</td>\n",
       "    </tr>\n",
       "  </tbody>\n",
       "</table>\n",
       "</div>"
      ],
      "text/plain": [
       "              resolution_w  resolution_h  time_period     os_ix  browser_ix  \\\n",
       "resolution_w      1.000000      0.815010     0.119446 -0.414297   -0.039691   \n",
       "resolution_h      0.815010      1.000000     0.085293 -0.367654   -0.113309   \n",
       "time_period       0.119446      0.085293     1.000000  0.177907    0.118424   \n",
       "os_ix            -0.414297     -0.367654     0.177907  1.000000    0.549038   \n",
       "browser_ix       -0.039691     -0.113309     0.118424  0.549038    1.000000   \n",
       "gamecode_ix      -0.084726      0.017866    -0.076048  0.045744    0.015586   \n",
       "gametype_ix       0.074466     -0.222174     0.161922  0.160718    0.377230   \n",
       "\n",
       "              gamecode_ix  gametype_ix  \n",
       "resolution_w    -0.084726     0.074466  \n",
       "resolution_h     0.017866    -0.222174  \n",
       "time_period     -0.076048     0.161922  \n",
       "os_ix            0.045744     0.160718  \n",
       "browser_ix       0.015586     0.377230  \n",
       "gamecode_ix      1.000000     0.099180  \n",
       "gametype_ix      0.099180     1.000000  "
      ]
     },
     "execution_count": 114,
     "metadata": {},
     "output_type": "execute_result"
    }
   ],
   "source": [
    "cleaned_data.corr()"
   ]
  },
  {
   "cell_type": "code",
   "execution_count": 115,
   "metadata": {
    "collapsed": false
   },
   "outputs": [
    {
     "name": "stderr",
     "output_type": "stream",
     "text": [
      "C:\\Users\\user\\Anaconda3\\lib\\site-packages\\ipykernel\\__main__.py:2: SettingWithCopyWarning: \n",
      "A value is trying to be set on a copy of a slice from a DataFrame.\n",
      "Try using .loc[row_indexer,col_indexer] = value instead\n",
      "\n",
      "See the caveats in the documentation: http://pandas.pydata.org/pandas-docs/stable/indexing.html#indexing-view-versus-copy\n",
      "  from ipykernel import kernelapp as app\n"
     ]
    }
   ],
   "source": [
    "cleaned_data['prediction_gametype_by_XGB'] = cv.cross_val_predict(XGBClassifier(),\n",
    "                    cleaned_data[features_to_predict_gametype], cleaned_data['gametype_ix'], cv=skf)"
   ]
  },
  {
   "cell_type": "code",
   "execution_count": 116,
   "metadata": {
    "collapsed": false
   },
   "outputs": [
    {
     "data": {
      "image/png": "[encoded data removed]",
      "text/plain": [
       "<matplotlib.figure.Figure at 0x17f72034ba8>"
      ]
     },
     "metadata": {},
     "output_type": "display_data"
    }
   ],
   "source": [
    "plt.hist(cleaned_data['prediction_gametype_by_XGB'])\n",
    "plt.show()"
   ]
  },
  {
   "cell_type": "code",
   "execution_count": 117,
   "metadata": {
    "collapsed": false
   },
   "outputs": [
    {
     "data": {
      "text/plain": [
       "[(3877.3638849470181, 'browser_ix'),\n",
       " (1213.473032394402, 'resolution_h'),\n",
       " (629.22659782964604, 'time_period'),\n",
       " (619.65749579672604, 'os_ix'),\n",
       " (130.31321994712394, 'resolution_w')]"
      ]
     },
     "execution_count": 117,
     "metadata": {},
     "output_type": "execute_result"
    }
   ],
   "source": [
    "from sklearn.feature_selection import SelectKBest\n",
    "kbest = SelectKBest(k = len(features_to_predict_gametype)).fit(cleaned_data[features_to_predict_gametype],cleaned_data['gametype_ix'])\n",
    "sorted(zip(kbest.scores_,features_to_predict_gametype), reverse=True)"
   ]
  },
  {
   "cell_type": "code",
   "execution_count": 118,
   "metadata": {
    "collapsed": false
   },
   "outputs": [
    {
     "data": {
      "text/html": [
       "<div>\n",
       "<table border=\"1\" class=\"dataframe\">\n",
       "  <thead>\n",
       "    <tr style=\"text-align: right;\">\n",
       "      <th></th>\n",
       "      <th>resolution_w</th>\n",
       "      <th>resolution_h</th>\n",
       "      <th>time_period</th>\n",
       "      <th>os_ix</th>\n",
       "      <th>browser_ix</th>\n",
       "      <th>gamecode_ix</th>\n",
       "      <th>gametype_ix</th>\n",
       "      <th>prediction_gametype_by_XGB</th>\n",
       "    </tr>\n",
       "  </thead>\n",
       "  <tbody>\n",
       "    <tr>\n",
       "      <th>resolution_w</th>\n",
       "      <td>1.000000</td>\n",
       "      <td>0.815010</td>\n",
       "      <td>0.119446</td>\n",
       "      <td>-0.414297</td>\n",
       "      <td>-0.039691</td>\n",
       "      <td>-0.084726</td>\n",
       "      <td>0.074466</td>\n",
       "      <td>0.090203</td>\n",
       "    </tr>\n",
       "    <tr>\n",
       "      <th>resolution_h</th>\n",
       "      <td>0.815010</td>\n",
       "      <td>1.000000</td>\n",
       "      <td>0.085293</td>\n",
       "      <td>-0.367654</td>\n",
       "      <td>-0.113309</td>\n",
       "      <td>0.017866</td>\n",
       "      <td>-0.222174</td>\n",
       "      <td>-0.205723</td>\n",
       "    </tr>\n",
       "    <tr>\n",
       "      <th>time_period</th>\n",
       "      <td>0.119446</td>\n",
       "      <td>0.085293</td>\n",
       "      <td>1.000000</td>\n",
       "      <td>0.177907</td>\n",
       "      <td>0.118424</td>\n",
       "      <td>-0.076048</td>\n",
       "      <td>0.161922</td>\n",
       "      <td>0.183272</td>\n",
       "    </tr>\n",
       "    <tr>\n",
       "      <th>os_ix</th>\n",
       "      <td>-0.414297</td>\n",
       "      <td>-0.367654</td>\n",
       "      <td>0.177907</td>\n",
       "      <td>1.000000</td>\n",
       "      <td>0.549038</td>\n",
       "      <td>0.045744</td>\n",
       "      <td>0.160718</td>\n",
       "      <td>0.162292</td>\n",
       "    </tr>\n",
       "    <tr>\n",
       "      <th>browser_ix</th>\n",
       "      <td>-0.039691</td>\n",
       "      <td>-0.113309</td>\n",
       "      <td>0.118424</td>\n",
       "      <td>0.549038</td>\n",
       "      <td>1.000000</td>\n",
       "      <td>0.015586</td>\n",
       "      <td>0.377230</td>\n",
       "      <td>0.381777</td>\n",
       "    </tr>\n",
       "    <tr>\n",
       "      <th>gamecode_ix</th>\n",
       "      <td>-0.084726</td>\n",
       "      <td>0.017866</td>\n",
       "      <td>-0.076048</td>\n",
       "      <td>0.045744</td>\n",
       "      <td>0.015586</td>\n",
       "      <td>1.000000</td>\n",
       "      <td>0.099180</td>\n",
       "      <td>0.106713</td>\n",
       "    </tr>\n",
       "    <tr>\n",
       "      <th>gametype_ix</th>\n",
       "      <td>0.074466</td>\n",
       "      <td>-0.222174</td>\n",
       "      <td>0.161922</td>\n",
       "      <td>0.160718</td>\n",
       "      <td>0.377230</td>\n",
       "      <td>0.099180</td>\n",
       "      <td>1.000000</td>\n",
       "      <td>0.953084</td>\n",
       "    </tr>\n",
       "    <tr>\n",
       "      <th>prediction_gametype_by_XGB</th>\n",
       "      <td>0.090203</td>\n",
       "      <td>-0.205723</td>\n",
       "      <td>0.183272</td>\n",
       "      <td>0.162292</td>\n",
       "      <td>0.381777</td>\n",
       "      <td>0.106713</td>\n",
       "      <td>0.953084</td>\n",
       "      <td>1.000000</td>\n",
       "    </tr>\n",
       "  </tbody>\n",
       "</table>\n",
       "</div>"
      ],
      "text/plain": [
       "                            resolution_w  resolution_h  time_period     os_ix  \\\n",
       "resolution_w                    1.000000      0.815010     0.119446 -0.414297   \n",
       "resolution_h                    0.815010      1.000000     0.085293 -0.367654   \n",
       "time_period                     0.119446      0.085293     1.000000  0.177907   \n",
       "os_ix                          -0.414297     -0.367654     0.177907  1.000000   \n",
       "browser_ix                     -0.039691     -0.113309     0.118424  0.549038   \n",
       "gamecode_ix                    -0.084726      0.017866    -0.076048  0.045744   \n",
       "gametype_ix                     0.074466     -0.222174     0.161922  0.160718   \n",
       "prediction_gametype_by_XGB      0.090203     -0.205723     0.183272  0.162292   \n",
       "\n",
       "                            browser_ix  gamecode_ix  gametype_ix  \\\n",
       "resolution_w                 -0.039691    -0.084726     0.074466   \n",
       "resolution_h                 -0.113309     0.017866    -0.222174   \n",
       "time_period                   0.118424    -0.076048     0.161922   \n",
       "os_ix                         0.549038     0.045744     0.160718   \n",
       "browser_ix                    1.000000     0.015586     0.377230   \n",
       "gamecode_ix                   0.015586     1.000000     0.099180   \n",
       "gametype_ix                   0.377230     0.099180     1.000000   \n",
       "prediction_gametype_by_XGB    0.381777     0.106713     0.953084   \n",
       "\n",
       "                            prediction_gametype_by_XGB  \n",
       "resolution_w                                  0.090203  \n",
       "resolution_h                                 -0.205723  \n",
       "time_period                                   0.183272  \n",
       "os_ix                                         0.162292  \n",
       "browser_ix                                    0.381777  \n",
       "gamecode_ix                                   0.106713  \n",
       "gametype_ix                                   0.953084  \n",
       "prediction_gametype_by_XGB                    1.000000  "
      ]
     },
     "execution_count": 118,
     "metadata": {},
     "output_type": "execute_result"
    }
   ],
   "source": [
    "cleaned_data.corr()"
   ]
  },
  {
   "cell_type": "code",
   "execution_count": 119,
   "metadata": {
    "collapsed": false
   },
   "outputs": [
    {
     "data": {
      "text/plain": [
       "0.6923076923076923"
      ]
     },
     "execution_count": 119,
     "metadata": {},
     "output_type": "execute_result"
    }
   ],
   "source": [
    "18/(8+18)"
   ]
  },
  {
   "cell_type": "code",
   "execution_count": null,
   "metadata": {
    "collapsed": true
   },
   "outputs": [],
   "source": []
  },
  {
   "cell_type": "code",
   "execution_count": 120,
   "metadata": {
    "collapsed": true
   },
   "outputs": [],
   "source": [
    "### Let's investigate how Browser may impact on hit and loginfailed actions:"
   ]
  },
  {
   "cell_type": "code",
   "execution_count": 121,
   "metadata": {
    "collapsed": false
   },
   "outputs": [
    {
     "name": "stdout",
     "output_type": "stream",
     "text": [
      "6901\n",
      "12\n"
     ]
    }
   ],
   "source": [
    "print(sum(data_train.event == 'hit'))\n",
    "print(sum(data_train.event == 'loginfailed'))"
   ]
  },
  {
   "cell_type": "code",
   "execution_count": 122,
   "metadata": {
    "collapsed": false
   },
   "outputs": [
    {
     "data": {
      "text/html": [
       "<div>\n",
       "<table border=\"1\" class=\"dataframe\">\n",
       "  <thead>\n",
       "    <tr style=\"text-align: right;\">\n",
       "      <th></th>\n",
       "      <th>time</th>\n",
       "      <th>cookie</th>\n",
       "      <th>uid</th>\n",
       "      <th>resolution_w</th>\n",
       "      <th>resolution_h</th>\n",
       "      <th>event</th>\n",
       "      <th>os</th>\n",
       "      <th>browser</th>\n",
       "      <th>gamecode</th>\n",
       "      <th>gametype</th>\n",
       "      <th>time_period</th>\n",
       "    </tr>\n",
       "  </thead>\n",
       "  <tbody>\n",
       "    <tr>\n",
       "      <th>69</th>\n",
       "      <td>00:19:00</td>\n",
       "      <td>V2e_l4787CAex_</td>\n",
       "      <td>NaN</td>\n",
       "      <td>2560</td>\n",
       "      <td>1440</td>\n",
       "      <td>loginfailed</td>\n",
       "      <td>MacOS</td>\n",
       "      <td>Safari</td>\n",
       "      <td>NaN</td>\n",
       "      <td>NaN</td>\n",
       "      <td>0</td>\n",
       "    </tr>\n",
       "    <tr>\n",
       "      <th>6123</th>\n",
       "      <td>08:16:59</td>\n",
       "      <td>V5KmM1088CAM-U</td>\n",
       "      <td>56b856073b4569</td>\n",
       "      <td>320</td>\n",
       "      <td>570</td>\n",
       "      <td>loginfailed</td>\n",
       "      <td>Android4</td>\n",
       "      <td>Chrome</td>\n",
       "      <td>NaN</td>\n",
       "      <td>NaN</td>\n",
       "      <td>1</td>\n",
       "    </tr>\n",
       "    <tr>\n",
       "      <th>9844</th>\n",
       "      <td>10:15:04</td>\n",
       "      <td>V4r5h7561CXIck</td>\n",
       "      <td>NaN</td>\n",
       "      <td>320</td>\n",
       "      <td>570</td>\n",
       "      <td>loginfailed</td>\n",
       "      <td>Android5</td>\n",
       "      <td>Yandex</td>\n",
       "      <td>NaN</td>\n",
       "      <td>NaN</td>\n",
       "      <td>1</td>\n",
       "    </tr>\n",
       "    <tr>\n",
       "      <th>9852</th>\n",
       "      <td>10:15:15</td>\n",
       "      <td>V4r5h7561CXIck</td>\n",
       "      <td>NaN</td>\n",
       "      <td>320</td>\n",
       "      <td>570</td>\n",
       "      <td>loginfailed</td>\n",
       "      <td>Android5</td>\n",
       "      <td>Yandex</td>\n",
       "      <td>NaN</td>\n",
       "      <td>NaN</td>\n",
       "      <td>1</td>\n",
       "    </tr>\n",
       "    <tr>\n",
       "      <th>9864</th>\n",
       "      <td>10:15:33</td>\n",
       "      <td>V4r5h7561CXIck</td>\n",
       "      <td>NaN</td>\n",
       "      <td>320</td>\n",
       "      <td>570</td>\n",
       "      <td>loginfailed</td>\n",
       "      <td>Android5</td>\n",
       "      <td>Yandex</td>\n",
       "      <td>NaN</td>\n",
       "      <td>NaN</td>\n",
       "      <td>1</td>\n",
       "    </tr>\n",
       "    <tr>\n",
       "      <th>21850</th>\n",
       "      <td>14:36:25</td>\n",
       "      <td>V4aWc116CnRXQ</td>\n",
       "      <td>NaN</td>\n",
       "      <td>360</td>\n",
       "      <td>640</td>\n",
       "      <td>loginfailed</td>\n",
       "      <td>Android5</td>\n",
       "      <td>Chrome</td>\n",
       "      <td>NaN</td>\n",
       "      <td>NaN</td>\n",
       "      <td>2</td>\n",
       "    </tr>\n",
       "    <tr>\n",
       "      <th>22047</th>\n",
       "      <td>14:43:45</td>\n",
       "      <td>V4aWc116CnRXQ</td>\n",
       "      <td>NaN</td>\n",
       "      <td>360</td>\n",
       "      <td>640</td>\n",
       "      <td>loginfailed</td>\n",
       "      <td>Android5</td>\n",
       "      <td>Chrome</td>\n",
       "      <td>NaN</td>\n",
       "      <td>NaN</td>\n",
       "      <td>2</td>\n",
       "    </tr>\n",
       "    <tr>\n",
       "      <th>23165</th>\n",
       "      <td>15:10:59</td>\n",
       "      <td>V5YhI4610CQH0E</td>\n",
       "      <td>NaN</td>\n",
       "      <td>1024</td>\n",
       "      <td>552</td>\n",
       "      <td>loginfailed</td>\n",
       "      <td>Android4</td>\n",
       "      <td>Chrome</td>\n",
       "      <td>NaN</td>\n",
       "      <td>NaN</td>\n",
       "      <td>2</td>\n",
       "    </tr>\n",
       "    <tr>\n",
       "      <th>23173</th>\n",
       "      <td>15:11:08</td>\n",
       "      <td>V5YhI4610CQH0E</td>\n",
       "      <td>NaN</td>\n",
       "      <td>1024</td>\n",
       "      <td>552</td>\n",
       "      <td>loginfailed</td>\n",
       "      <td>Android4</td>\n",
       "      <td>Chrome</td>\n",
       "      <td>NaN</td>\n",
       "      <td>NaN</td>\n",
       "      <td>2</td>\n",
       "    </tr>\n",
       "    <tr>\n",
       "      <th>31519</th>\n",
       "      <td>21:48:56</td>\n",
       "      <td>V5aJB2504C4MLL</td>\n",
       "      <td>NaN</td>\n",
       "      <td>480</td>\n",
       "      <td>800</td>\n",
       "      <td>loginfailed</td>\n",
       "      <td>WindowsPhone</td>\n",
       "      <td>_var</td>\n",
       "      <td>NaN</td>\n",
       "      <td>NaN</td>\n",
       "      <td>3</td>\n",
       "    </tr>\n",
       "    <tr>\n",
       "      <th>31526</th>\n",
       "      <td>21:49:37</td>\n",
       "      <td>V5aJB2504C4MLL</td>\n",
       "      <td>NaN</td>\n",
       "      <td>480</td>\n",
       "      <td>800</td>\n",
       "      <td>loginfailed</td>\n",
       "      <td>WindowsPhone</td>\n",
       "      <td>_var</td>\n",
       "      <td>NaN</td>\n",
       "      <td>NaN</td>\n",
       "      <td>3</td>\n",
       "    </tr>\n",
       "    <tr>\n",
       "      <th>31570</th>\n",
       "      <td>21:53:56</td>\n",
       "      <td>V5aJB2504C4MLL</td>\n",
       "      <td>NaN</td>\n",
       "      <td>480</td>\n",
       "      <td>800</td>\n",
       "      <td>loginfailed</td>\n",
       "      <td>WindowsPhone</td>\n",
       "      <td>_var</td>\n",
       "      <td>NaN</td>\n",
       "      <td>NaN</td>\n",
       "      <td>3</td>\n",
       "    </tr>\n",
       "  </tbody>\n",
       "</table>\n",
       "</div>"
      ],
      "text/plain": [
       "           time          cookie             uid  resolution_w  resolution_h  \\\n",
       "69     00:19:00  V2e_l4787CAex_             NaN          2560          1440   \n",
       "6123   08:16:59  V5KmM1088CAM-U  56b856073b4569           320           570   \n",
       "9844   10:15:04  V4r5h7561CXIck             NaN           320           570   \n",
       "9852   10:15:15  V4r5h7561CXIck             NaN           320           570   \n",
       "9864   10:15:33  V4r5h7561CXIck             NaN           320           570   \n",
       "21850  14:36:25   V4aWc116CnRXQ             NaN           360           640   \n",
       "22047  14:43:45   V4aWc116CnRXQ             NaN           360           640   \n",
       "23165  15:10:59  V5YhI4610CQH0E             NaN          1024           552   \n",
       "23173  15:11:08  V5YhI4610CQH0E             NaN          1024           552   \n",
       "31519  21:48:56  V5aJB2504C4MLL             NaN           480           800   \n",
       "31526  21:49:37  V5aJB2504C4MLL             NaN           480           800   \n",
       "31570  21:53:56  V5aJB2504C4MLL             NaN           480           800   \n",
       "\n",
       "             event            os browser gamecode gametype  time_period  \n",
       "69     loginfailed         MacOS  Safari      NaN      NaN            0  \n",
       "6123   loginfailed      Android4  Chrome      NaN      NaN            1  \n",
       "9844   loginfailed      Android5  Yandex      NaN      NaN            1  \n",
       "9852   loginfailed      Android5  Yandex      NaN      NaN            1  \n",
       "9864   loginfailed      Android5  Yandex      NaN      NaN            1  \n",
       "21850  loginfailed      Android5  Chrome      NaN      NaN            2  \n",
       "22047  loginfailed      Android5  Chrome      NaN      NaN            2  \n",
       "23165  loginfailed      Android4  Chrome      NaN      NaN            2  \n",
       "23173  loginfailed      Android4  Chrome      NaN      NaN            2  \n",
       "31519  loginfailed  WindowsPhone    _var      NaN      NaN            3  \n",
       "31526  loginfailed  WindowsPhone    _var      NaN      NaN            3  \n",
       "31570  loginfailed  WindowsPhone    _var      NaN      NaN            3  "
      ]
     },
     "execution_count": 122,
     "metadata": {},
     "output_type": "execute_result"
    }
   ],
   "source": [
    "data_train[data_train.event == 'loginfailed']"
   ]
  },
  {
   "cell_type": "code",
   "execution_count": 123,
   "metadata": {
    "collapsed": true
   },
   "outputs": [],
   "source": [
    "hit_data = data_train[data_train.event == 'hit']"
   ]
  },
  {
   "cell_type": "code",
   "execution_count": 124,
   "metadata": {
    "collapsed": false
   },
   "outputs": [
    {
     "data": {
      "image/png": "[encoded data removed]",
      "text/plain": [
       "<matplotlib.figure.Figure at 0x17f7137b828>"
      ]
     },
     "metadata": {},
     "output_type": "display_data"
    }
   ],
   "source": [
    "show_two_histograms(['browser', 'os'], hit_data)"
   ]
  },
  {
   "cell_type": "code",
   "execution_count": 125,
   "metadata": {
    "collapsed": false
   },
   "outputs": [
    {
     "data": {
      "text/html": [
       "<div>\n",
       "<table border=\"1\" class=\"dataframe\">\n",
       "  <thead>\n",
       "    <tr style=\"text-align: right;\">\n",
       "      <th></th>\n",
       "      <th>time</th>\n",
       "      <th>cookie</th>\n",
       "      <th>uid</th>\n",
       "      <th>resolution_w</th>\n",
       "      <th>resolution_h</th>\n",
       "      <th>event</th>\n",
       "      <th>os</th>\n",
       "      <th>browser</th>\n",
       "      <th>gamecode</th>\n",
       "      <th>gametype</th>\n",
       "      <th>time_period</th>\n",
       "    </tr>\n",
       "  </thead>\n",
       "  <tbody>\n",
       "    <tr>\n",
       "      <th>count</th>\n",
       "      <td>6901</td>\n",
       "      <td>6901</td>\n",
       "      <td>0</td>\n",
       "      <td>6901.000000</td>\n",
       "      <td>6901.000000</td>\n",
       "      <td>6901</td>\n",
       "      <td>6901</td>\n",
       "      <td>6901</td>\n",
       "      <td>0</td>\n",
       "      <td>0</td>\n",
       "      <td>6901.000000</td>\n",
       "    </tr>\n",
       "    <tr>\n",
       "      <th>unique</th>\n",
       "      <td>6479</td>\n",
       "      <td>3163</td>\n",
       "      <td>0</td>\n",
       "      <td>NaN</td>\n",
       "      <td>NaN</td>\n",
       "      <td>1</td>\n",
       "      <td>15</td>\n",
       "      <td>11</td>\n",
       "      <td>0</td>\n",
       "      <td>0</td>\n",
       "      <td>NaN</td>\n",
       "    </tr>\n",
       "    <tr>\n",
       "      <th>top</th>\n",
       "      <td>17:58:39</td>\n",
       "      <td>20160905163982</td>\n",
       "      <td>NaN</td>\n",
       "      <td>NaN</td>\n",
       "      <td>NaN</td>\n",
       "      <td>hit</td>\n",
       "      <td>Linux</td>\n",
       "      <td>WebKit</td>\n",
       "      <td>NaN</td>\n",
       "      <td>NaN</td>\n",
       "      <td>NaN</td>\n",
       "    </tr>\n",
       "    <tr>\n",
       "      <th>freq</th>\n",
       "      <td>7</td>\n",
       "      <td>718</td>\n",
       "      <td>NaN</td>\n",
       "      <td>NaN</td>\n",
       "      <td>NaN</td>\n",
       "      <td>6901</td>\n",
       "      <td>3038</td>\n",
       "      <td>4004</td>\n",
       "      <td>NaN</td>\n",
       "      <td>NaN</td>\n",
       "      <td>NaN</td>\n",
       "    </tr>\n",
       "    <tr>\n",
       "      <th>mean</th>\n",
       "      <td>NaN</td>\n",
       "      <td>NaN</td>\n",
       "      <td>NaN</td>\n",
       "      <td>974.007100</td>\n",
       "      <td>742.998261</td>\n",
       "      <td>NaN</td>\n",
       "      <td>NaN</td>\n",
       "      <td>NaN</td>\n",
       "      <td>NaN</td>\n",
       "      <td>NaN</td>\n",
       "      <td>1.572671</td>\n",
       "    </tr>\n",
       "    <tr>\n",
       "      <th>std</th>\n",
       "      <td>NaN</td>\n",
       "      <td>NaN</td>\n",
       "      <td>NaN</td>\n",
       "      <td>406.526826</td>\n",
       "      <td>163.379399</td>\n",
       "      <td>NaN</td>\n",
       "      <td>NaN</td>\n",
       "      <td>NaN</td>\n",
       "      <td>NaN</td>\n",
       "      <td>NaN</td>\n",
       "      <td>1.006271</td>\n",
       "    </tr>\n",
       "    <tr>\n",
       "      <th>min</th>\n",
       "      <td>NaN</td>\n",
       "      <td>NaN</td>\n",
       "      <td>NaN</td>\n",
       "      <td>320.000000</td>\n",
       "      <td>320.000000</td>\n",
       "      <td>NaN</td>\n",
       "      <td>NaN</td>\n",
       "      <td>NaN</td>\n",
       "      <td>NaN</td>\n",
       "      <td>NaN</td>\n",
       "      <td>0.000000</td>\n",
       "    </tr>\n",
       "    <tr>\n",
       "      <th>25%</th>\n",
       "      <td>NaN</td>\n",
       "      <td>NaN</td>\n",
       "      <td>NaN</td>\n",
       "      <td>962.000000</td>\n",
       "      <td>640.000000</td>\n",
       "      <td>NaN</td>\n",
       "      <td>NaN</td>\n",
       "      <td>NaN</td>\n",
       "      <td>NaN</td>\n",
       "      <td>NaN</td>\n",
       "      <td>1.000000</td>\n",
       "    </tr>\n",
       "    <tr>\n",
       "      <th>50%</th>\n",
       "      <td>NaN</td>\n",
       "      <td>NaN</td>\n",
       "      <td>NaN</td>\n",
       "      <td>1024.000000</td>\n",
       "      <td>768.000000</td>\n",
       "      <td>NaN</td>\n",
       "      <td>NaN</td>\n",
       "      <td>NaN</td>\n",
       "      <td>NaN</td>\n",
       "      <td>NaN</td>\n",
       "      <td>2.000000</td>\n",
       "    </tr>\n",
       "    <tr>\n",
       "      <th>75%</th>\n",
       "      <td>NaN</td>\n",
       "      <td>NaN</td>\n",
       "      <td>NaN</td>\n",
       "      <td>1024.000000</td>\n",
       "      <td>768.000000</td>\n",
       "      <td>NaN</td>\n",
       "      <td>NaN</td>\n",
       "      <td>NaN</td>\n",
       "      <td>NaN</td>\n",
       "      <td>NaN</td>\n",
       "      <td>2.000000</td>\n",
       "    </tr>\n",
       "    <tr>\n",
       "      <th>max</th>\n",
       "      <td>NaN</td>\n",
       "      <td>NaN</td>\n",
       "      <td>NaN</td>\n",
       "      <td>2695.000000</td>\n",
       "      <td>1516.000000</td>\n",
       "      <td>NaN</td>\n",
       "      <td>NaN</td>\n",
       "      <td>NaN</td>\n",
       "      <td>NaN</td>\n",
       "      <td>NaN</td>\n",
       "      <td>3.000000</td>\n",
       "    </tr>\n",
       "  </tbody>\n",
       "</table>\n",
       "</div>"
      ],
      "text/plain": [
       "            time          cookie  uid  resolution_w  resolution_h event  \\\n",
       "count       6901            6901    0   6901.000000   6901.000000  6901   \n",
       "unique      6479            3163    0           NaN           NaN     1   \n",
       "top     17:58:39  20160905163982  NaN           NaN           NaN   hit   \n",
       "freq           7             718  NaN           NaN           NaN  6901   \n",
       "mean         NaN             NaN  NaN    974.007100    742.998261   NaN   \n",
       "std          NaN             NaN  NaN    406.526826    163.379399   NaN   \n",
       "min          NaN             NaN  NaN    320.000000    320.000000   NaN   \n",
       "25%          NaN             NaN  NaN    962.000000    640.000000   NaN   \n",
       "50%          NaN             NaN  NaN   1024.000000    768.000000   NaN   \n",
       "75%          NaN             NaN  NaN   1024.000000    768.000000   NaN   \n",
       "max          NaN             NaN  NaN   2695.000000   1516.000000   NaN   \n",
       "\n",
       "           os browser  gamecode  gametype  time_period  \n",
       "count    6901    6901         0         0  6901.000000  \n",
       "unique     15      11         0         0          NaN  \n",
       "top     Linux  WebKit       NaN       NaN          NaN  \n",
       "freq     3038    4004       NaN       NaN          NaN  \n",
       "mean      NaN     NaN       NaN       NaN     1.572671  \n",
       "std       NaN     NaN       NaN       NaN     1.006271  \n",
       "min       NaN     NaN       NaN       NaN     0.000000  \n",
       "25%       NaN     NaN       NaN       NaN     1.000000  \n",
       "50%       NaN     NaN       NaN       NaN     2.000000  \n",
       "75%       NaN     NaN       NaN       NaN     2.000000  \n",
       "max       NaN     NaN       NaN       NaN     3.000000  "
      ]
     },
     "execution_count": 125,
     "metadata": {},
     "output_type": "execute_result"
    }
   ],
   "source": [
    "hit_data.describe(include = 'all')"
   ]
  },
  {
   "cell_type": "code",
   "execution_count": 126,
   "metadata": {
    "collapsed": false
   },
   "outputs": [
    {
     "data": {
      "image/png": "[encoded data removed]",
      "text/plain": [
       "<matplotlib.figure.Figure at 0x17f7230e6a0>"
      ]
     },
     "metadata": {},
     "output_type": "display_data"
    }
   ],
   "source": [
    "# distribution of gametype for different Browser\n",
    "sns.countplot(x='os', hue='browser', data = hit_data)\n",
    "sns.plt.title('Page changed action, distribution of Browser by OS')\n",
    "sns.plt.show()"
   ]
  },
  {
   "cell_type": "code",
   "execution_count": 127,
   "metadata": {
    "collapsed": false
   },
   "outputs": [
    {
     "data": {
      "image/png": "[encoded data removed]",
      "text/plain": [
       "<matplotlib.figure.Figure at 0x17f00623e10>"
      ]
     },
     "metadata": {},
     "output_type": "display_data"
    }
   ],
   "source": [
    "plt.hist(LabelEncoder().fit_transform(hit_data.cookie), bins = 1000)\n",
    "plt.show()"
   ]
  },
  {
   "cell_type": "code",
   "execution_count": 128,
   "metadata": {
    "collapsed": false
   },
   "outputs": [
    {
     "name": "stderr",
     "output_type": "stream",
     "text": [
      "C:\\Users\\user\\Anaconda3\\lib\\site-packages\\ipykernel\\__main__.py:2: FutureWarning: sort(columns=....) is deprecated, use sort_values(by=.....)\n",
      "  from ipykernel import kernelapp as app\n"
     ]
    }
   ],
   "source": [
    "grouped_hit = hit_data.groupby('cookie').agg({'time': pd.Series.nunique,\n",
    "                        'os': pd.Series.tolist}).sort(columns = 'time', ascending = False)"
   ]
  },
  {
   "cell_type": "markdown",
   "metadata": {},
   "source": [
    "aaa"
   ]
  },
  {
   "cell_type": "code",
   "execution_count": 129,
   "metadata": {
    "collapsed": false
   },
   "outputs": [
    {
     "data": {
      "image/png": "[encoded data removed]",
      "text/plain": [
       "<matplotlib.figure.Figure at 0x17f72914668>"
      ]
     },
     "metadata": {},
     "output_type": "display_data"
    }
   ],
   "source": [
    "# distribution of gametype for different Browser without most active user of iOS9:\n",
    "sns.countplot(x='os', hue='browser', data = hit_data[hit_data.cookie != '20160905163982'])\n",
    "sns.plt.title('Page changed action, distribution of Browser by OS')\n",
    "sns.plt.show()"
   ]
  },
  {
   "cell_type": "code",
   "execution_count": 130,
   "metadata": {
    "collapsed": true
   },
   "outputs": [],
   "source": [
    "## picture is the same"
   ]
  },
  {
   "cell_type": "code",
   "execution_count": 131,
   "metadata": {
    "collapsed": false
   },
   "outputs": [],
   "source": [
    "## let's add day period names \n",
    "def day_period_name(x):\n",
    "    if x==0:\n",
    "        return 'night'\n",
    "    elif x==1:\n",
    "        return 'morning'\n",
    "    elif x==2:\n",
    "        return 'day'\n",
    "    else:\n",
    "        return 'evening'\n",
    "data_train['period_of_day'] = data_train.time_period.apply(day_period_name)"
   ]
  },
  {
   "cell_type": "markdown",
   "metadata": {},
   "source": [
    "## Let's take only data for users which did some actions in the game"
   ]
  },
  {
   "cell_type": "code",
   "execution_count": 132,
   "metadata": {
    "collapsed": false
   },
   "outputs": [],
   "source": [
    "gaming_data = data_train[data_train.event == 'round']"
   ]
  },
  {
   "cell_type": "code",
   "execution_count": 133,
   "metadata": {
    "collapsed": false
   },
   "outputs": [
    {
     "name": "stderr",
     "output_type": "stream",
     "text": [
      "C:\\Users\\user\\Anaconda3\\lib\\site-packages\\ipykernel\\__main__.py:1: SettingWithCopyWarning: \n",
      "A value is trying to be set on a copy of a slice from a DataFrame.\n",
      "Try using .loc[row_indexer,col_indexer] = value instead\n",
      "\n",
      "See the caveats in the documentation: http://pandas.pydata.org/pandas-docs/stable/indexing.html#indexing-view-versus-copy\n",
      "  if __name__ == '__main__':\n",
      "C:\\Users\\user\\Anaconda3\\lib\\site-packages\\ipykernel\\__main__.py:2: SettingWithCopyWarning: \n",
      "A value is trying to be set on a copy of a slice from a DataFrame.\n",
      "Try using .loc[row_indexer,col_indexer] = value instead\n",
      "\n",
      "See the caveats in the documentation: http://pandas.pydata.org/pandas-docs/stable/indexing.html#indexing-view-versus-copy\n",
      "  from ipykernel import kernelapp as app\n"
     ]
    }
   ],
   "source": [
    "gaming_data['time_min'] = gaming_data.time\n",
    "gaming_data['time_max'] = gaming_data.time"
   ]
  },
  {
   "cell_type": "code",
   "execution_count": null,
   "metadata": {
    "collapsed": false
   },
   "outputs": [],
   "source": []
  },
  {
   "cell_type": "markdown",
   "metadata": {},
   "source": [
    "### group by cookie to define the most active users"
   ]
  },
  {
   "cell_type": "code",
   "execution_count": null,
   "metadata": {
    "collapsed": true
   },
   "outputs": [],
   "source": []
  },
  {
   "cell_type": "code",
   "execution_count": 134,
   "metadata": {
    "collapsed": false
   },
   "outputs": [
    {
     "name": "stderr",
     "output_type": "stream",
     "text": [
      "C:\\Users\\user\\Anaconda3\\lib\\site-packages\\ipykernel\\__main__.py:1: SettingWithCopyWarning: \n",
      "A value is trying to be set on a copy of a slice from a DataFrame.\n",
      "Try using .loc[row_indexer,col_indexer] = value instead\n",
      "\n",
      "See the caveats in the documentation: http://pandas.pydata.org/pandas-docs/stable/indexing.html#indexing-view-versus-copy\n",
      "  if __name__ == '__main__':\n",
      "C:\\Users\\user\\Anaconda3\\lib\\site-packages\\ipykernel\\__main__.py:2: SettingWithCopyWarning: \n",
      "A value is trying to be set on a copy of a slice from a DataFrame.\n",
      "Try using .loc[row_indexer,col_indexer] = value instead\n",
      "\n",
      "See the caveats in the documentation: http://pandas.pydata.org/pandas-docs/stable/indexing.html#indexing-view-versus-copy\n",
      "  from ipykernel import kernelapp as app\n",
      "C:\\Users\\user\\Anaconda3\\lib\\site-packages\\ipykernel\\__main__.py:3: SettingWithCopyWarning: \n",
      "A value is trying to be set on a copy of a slice from a DataFrame.\n",
      "Try using .loc[row_indexer,col_indexer] = value instead\n",
      "\n",
      "See the caveats in the documentation: http://pandas.pydata.org/pandas-docs/stable/indexing.html#indexing-view-versus-copy\n",
      "  app.launch_new_instance()\n",
      "C:\\Users\\user\\Anaconda3\\lib\\site-packages\\ipykernel\\__main__.py:11: FutureWarning: sort(columns=....) is deprecated, use sort_values(by=.....)\n"
     ]
    }
   ],
   "source": [
    "gaming_data['Number of different actions'] = gaming_data.time\n",
    "gaming_data['Number of games'] = gaming_data.gamecode\n",
    "gaming_data['Periods of the day'] = gaming_data.period_of_day\n",
    "grouped_gaming = gaming_data.groupby('cookie').agg({'Number of different actions': pd.Series.nunique,                                                    \n",
    "                                                    'os': pd.Series.unique, \n",
    "                                                    'browser': pd.Series.unique,\n",
    "                                                    'Periods of the day' : pd.Series.unique,\n",
    "                                                    'Number of games': pd.Series.nunique,\n",
    "                                                     'time_min': pd.Series.min, \n",
    "                                                    'time_max': pd.Series.max,\n",
    "                                                   }).sort(columns = 'Number of different actions', ascending = False)"
   ]
  },
  {
   "cell_type": "code",
   "execution_count": 135,
   "metadata": {
    "collapsed": false
   },
   "outputs": [
    {
     "data": {
      "text/html": [
       "<div>\n",
       "<table border=\"1\" class=\"dataframe\">\n",
       "  <thead>\n",
       "    <tr style=\"text-align: right;\">\n",
       "      <th></th>\n",
       "      <th>os</th>\n",
       "      <th>Number of different actions</th>\n",
       "      <th>time_max</th>\n",
       "      <th>browser</th>\n",
       "      <th>time_min</th>\n",
       "      <th>Periods of the day</th>\n",
       "      <th>Number of games</th>\n",
       "    </tr>\n",
       "    <tr>\n",
       "      <th>cookie</th>\n",
       "      <th></th>\n",
       "      <th></th>\n",
       "      <th></th>\n",
       "      <th></th>\n",
       "      <th></th>\n",
       "      <th></th>\n",
       "      <th></th>\n",
       "    </tr>\n",
       "  </thead>\n",
       "  <tbody>\n",
       "    <tr>\n",
       "      <th>V5XZi8822CzRnw</th>\n",
       "      <td>WindowsVista</td>\n",
       "      <td>2649</td>\n",
       "      <td>15:35:38</td>\n",
       "      <td>Yandex</td>\n",
       "      <td>10:50:13</td>\n",
       "      <td>[morning, day]</td>\n",
       "      <td>12</td>\n",
       "    </tr>\n",
       "    <tr>\n",
       "      <th>V5X-E8911CfhbU</th>\n",
       "      <td>Windows10</td>\n",
       "      <td>2066</td>\n",
       "      <td>16:30:34</td>\n",
       "      <td>Opera</td>\n",
       "      <td>12:01:25</td>\n",
       "      <td>day</td>\n",
       "      <td>3</td>\n",
       "    </tr>\n",
       "    <tr>\n",
       "      <th>20151602895315</th>\n",
       "      <td>Windows10</td>\n",
       "      <td>1521</td>\n",
       "      <td>10:34:48</td>\n",
       "      <td>Firefox</td>\n",
       "      <td>02:33:58</td>\n",
       "      <td>[night, morning]</td>\n",
       "      <td>1</td>\n",
       "    </tr>\n",
       "    <tr>\n",
       "      <th>20151952361768</th>\n",
       "      <td>Windows7</td>\n",
       "      <td>1384</td>\n",
       "      <td>21:04:50</td>\n",
       "      <td>Chrome</td>\n",
       "      <td>09:34:10</td>\n",
       "      <td>[morning, day, evening]</td>\n",
       "      <td>1</td>\n",
       "    </tr>\n",
       "    <tr>\n",
       "      <th>V2FMP5536Ck-FA</th>\n",
       "      <td>Windows7</td>\n",
       "      <td>1243</td>\n",
       "      <td>15:10:06</td>\n",
       "      <td>Chrome</td>\n",
       "      <td>00:37:38</td>\n",
       "      <td>[night, day]</td>\n",
       "      <td>21</td>\n",
       "    </tr>\n",
       "    <tr>\n",
       "      <th>V5aWN678C9xMp</th>\n",
       "      <td>Windows7</td>\n",
       "      <td>1159</td>\n",
       "      <td>23:59:58</td>\n",
       "      <td>Chrome</td>\n",
       "      <td>00:00:01</td>\n",
       "      <td>[evening, night]</td>\n",
       "      <td>1</td>\n",
       "    </tr>\n",
       "    <tr>\n",
       "      <th>V2EJG8079CIMPi</th>\n",
       "      <td>Windows7</td>\n",
       "      <td>1106</td>\n",
       "      <td>12:13:03</td>\n",
       "      <td>Chrome</td>\n",
       "      <td>08:31:53</td>\n",
       "      <td>[morning, day]</td>\n",
       "      <td>3</td>\n",
       "    </tr>\n",
       "    <tr>\n",
       "      <th>V3-ew5240C8vce</th>\n",
       "      <td>Windows7</td>\n",
       "      <td>1039</td>\n",
       "      <td>17:27:44</td>\n",
       "      <td>Chrome</td>\n",
       "      <td>07:01:55</td>\n",
       "      <td>[morning, day]</td>\n",
       "      <td>2</td>\n",
       "    </tr>\n",
       "    <tr>\n",
       "      <th>V5XWy8728CKgMA</th>\n",
       "      <td>Windows7</td>\n",
       "      <td>949</td>\n",
       "      <td>12:06:12</td>\n",
       "      <td>Firefox</td>\n",
       "      <td>09:35:11</td>\n",
       "      <td>[morning, day]</td>\n",
       "      <td>5</td>\n",
       "    </tr>\n",
       "    <tr>\n",
       "      <th>V3DoE1217C76A2</th>\n",
       "      <td>Windows8</td>\n",
       "      <td>726</td>\n",
       "      <td>15:56:23</td>\n",
       "      <td>Chrome</td>\n",
       "      <td>15:00:15</td>\n",
       "      <td>day</td>\n",
       "      <td>3</td>\n",
       "    </tr>\n",
       "  </tbody>\n",
       "</table>\n",
       "</div>"
      ],
      "text/plain": [
       "                          os  Number of different actions  time_max  browser  \\\n",
       "cookie                                                                         \n",
       "V5XZi8822CzRnw  WindowsVista                         2649  15:35:38   Yandex   \n",
       "V5X-E8911CfhbU     Windows10                         2066  16:30:34    Opera   \n",
       "20151602895315     Windows10                         1521  10:34:48  Firefox   \n",
       "20151952361768      Windows7                         1384  21:04:50   Chrome   \n",
       "V2FMP5536Ck-FA      Windows7                         1243  15:10:06   Chrome   \n",
       "V5aWN678C9xMp       Windows7                         1159  23:59:58   Chrome   \n",
       "V2EJG8079CIMPi      Windows7                         1106  12:13:03   Chrome   \n",
       "V3-ew5240C8vce      Windows7                         1039  17:27:44   Chrome   \n",
       "V5XWy8728CKgMA      Windows7                          949  12:06:12  Firefox   \n",
       "V3DoE1217C76A2      Windows8                          726  15:56:23   Chrome   \n",
       "\n",
       "                time_min       Periods of the day  Number of games  \n",
       "cookie                                                              \n",
       "V5XZi8822CzRnw  10:50:13           [morning, day]               12  \n",
       "V5X-E8911CfhbU  12:01:25                      day                3  \n",
       "20151602895315  02:33:58         [night, morning]                1  \n",
       "20151952361768  09:34:10  [morning, day, evening]                1  \n",
       "V2FMP5536Ck-FA  00:37:38             [night, day]               21  \n",
       "V5aWN678C9xMp   00:00:01         [evening, night]                1  \n",
       "V2EJG8079CIMPi  08:31:53           [morning, day]                3  \n",
       "V3-ew5240C8vce  07:01:55           [morning, day]                2  \n",
       "V5XWy8728CKgMA  09:35:11           [morning, day]                5  \n",
       "V3DoE1217C76A2  15:00:15                      day                3  "
      ]
     },
     "execution_count": 135,
     "metadata": {},
     "output_type": "execute_result"
    }
   ],
   "source": [
    "grouped_gaming[:10]"
   ]
  },
  {
   "cell_type": "code",
   "execution_count": 139,
   "metadata": {
    "collapsed": false
   },
   "outputs": [],
   "source": [
    "#dir(pd.Series)"
   ]
  },
  {
   "cell_type": "markdown",
   "metadata": {
    "collapsed": true
   },
   "source": [
    "### Define the most played game"
   ]
  },
  {
   "cell_type": "code",
   "execution_count": null,
   "metadata": {
    "collapsed": true
   },
   "outputs": [],
   "source": []
  },
  {
   "cell_type": "code",
   "execution_count": 137,
   "metadata": {
    "collapsed": false
   },
   "outputs": [
    {
     "name": "stderr",
     "output_type": "stream",
     "text": [
      "C:\\Users\\user\\Anaconda3\\lib\\site-packages\\ipykernel\\__main__.py:1: SettingWithCopyWarning: \n",
      "A value is trying to be set on a copy of a slice from a DataFrame.\n",
      "Try using .loc[row_indexer,col_indexer] = value instead\n",
      "\n",
      "See the caveats in the documentation: http://pandas.pydata.org/pandas-docs/stable/indexing.html#indexing-view-versus-copy\n",
      "  if __name__ == '__main__':\n",
      "C:\\Users\\user\\Anaconda3\\lib\\site-packages\\ipykernel\\__main__.py:2: SettingWithCopyWarning: \n",
      "A value is trying to be set on a copy of a slice from a DataFrame.\n",
      "Try using .loc[row_indexer,col_indexer] = value instead\n",
      "\n",
      "See the caveats in the documentation: http://pandas.pydata.org/pandas-docs/stable/indexing.html#indexing-view-versus-copy\n",
      "  from ipykernel import kernelapp as app\n",
      "C:\\Users\\user\\Anaconda3\\lib\\site-packages\\ipykernel\\__main__.py:6: FutureWarning: sort(columns=....) is deprecated, use sort_values(by=.....)\n"
     ]
    }
   ],
   "source": [
    "gaming_data['OS used'] = gaming_data.os\n",
    "gaming_data['Number of users who play game'] = copy.deepcopy(gaming_data.cookie)\n",
    "grouped_gaming = gaming_data.groupby('gamecode').agg({'Number of users who play game': pd.Series.nunique, \n",
    "                                                    'OS used': pd.Series.unique, \n",
    "                                                    'Periods of the day' : pd.Series.unique,\n",
    "                                                   }).sort(columns = 'Number of users who play game', ascending = False)"
   ]
  },
  {
   "cell_type": "code",
   "execution_count": 138,
   "metadata": {
    "collapsed": false
   },
   "outputs": [
    {
     "data": {
      "text/html": [
       "<div>\n",
       "<table border=\"1\" class=\"dataframe\">\n",
       "  <thead>\n",
       "    <tr style=\"text-align: right;\">\n",
       "      <th></th>\n",
       "      <th>Number of users who play game</th>\n",
       "      <th>OS used</th>\n",
       "      <th>Periods of the day</th>\n",
       "    </tr>\n",
       "    <tr>\n",
       "      <th>gamecode</th>\n",
       "      <th></th>\n",
       "      <th></th>\n",
       "      <th></th>\n",
       "    </tr>\n",
       "  </thead>\n",
       "  <tbody>\n",
       "    <tr>\n",
       "      <th>roulette</th>\n",
       "      <td>19</td>\n",
       "      <td>[Windows7, WindowsXP, Windows8, Windows10, MacOS]</td>\n",
       "      <td>[night, morning, day, evening]</td>\n",
       "    </tr>\n",
       "    <tr>\n",
       "      <th>book_of_ra2_gift</th>\n",
       "      <td>12</td>\n",
       "      <td>[Windows7, Linux, Windows8, Windows10, MacOS]</td>\n",
       "      <td>[night, morning, day, evening]</td>\n",
       "    </tr>\n",
       "    <tr>\n",
       "      <th>crazy_monkey_gift</th>\n",
       "      <td>9</td>\n",
       "      <td>[Windows7, Windows8, WindowsVista]</td>\n",
       "      <td>[night, morning, day, evening]</td>\n",
       "    </tr>\n",
       "    <tr>\n",
       "      <th>fruit_cocktail</th>\n",
       "      <td>8</td>\n",
       "      <td>[Windows7, WindowsVista, Windows8]</td>\n",
       "      <td>[night, morning, day]</td>\n",
       "    </tr>\n",
       "    <tr>\n",
       "      <th>lucky_ladies_charm2_gift</th>\n",
       "      <td>6</td>\n",
       "      <td>[Windows7, WindowsVista, Windows8]</td>\n",
       "      <td>[night, day]</td>\n",
       "    </tr>\n",
       "    <tr>\n",
       "      <th>incredible_hulk_gift</th>\n",
       "      <td>5</td>\n",
       "      <td>[Windows7, WindowsVista, Windows8, MacOS]</td>\n",
       "      <td>[morning, day]</td>\n",
       "    </tr>\n",
       "    <tr>\n",
       "      <th>book_of_ra2_deluxe</th>\n",
       "      <td>5</td>\n",
       "      <td>[Windows7, Windows10, Windows8]</td>\n",
       "      <td>[morning, day]</td>\n",
       "    </tr>\n",
       "    <tr>\n",
       "      <th>fairy_land</th>\n",
       "      <td>5</td>\n",
       "      <td>[Windows7, WindowsVista, Windows8]</td>\n",
       "      <td>[morning, day]</td>\n",
       "    </tr>\n",
       "    <tr>\n",
       "      <th>roulette_with_track</th>\n",
       "      <td>5</td>\n",
       "      <td>[Windows7, Windows10, MacOS]</td>\n",
       "      <td>[morning, day]</td>\n",
       "    </tr>\n",
       "    <tr>\n",
       "      <th>iron_man_3</th>\n",
       "      <td>4</td>\n",
       "      <td>[MacOS, Windows7, WindowsVista]</td>\n",
       "      <td>[night, morning, day]</td>\n",
       "    </tr>\n",
       "  </tbody>\n",
       "</table>\n",
       "</div>"
      ],
      "text/plain": [
       "                          Number of users who play game  \\\n",
       "gamecode                                                  \n",
       "roulette                                             19   \n",
       "book_of_ra2_gift                                     12   \n",
       "crazy_monkey_gift                                     9   \n",
       "fruit_cocktail                                        8   \n",
       "lucky_ladies_charm2_gift                              6   \n",
       "incredible_hulk_gift                                  5   \n",
       "book_of_ra2_deluxe                                    5   \n",
       "fairy_land                                            5   \n",
       "roulette_with_track                                   5   \n",
       "iron_man_3                                            4   \n",
       "\n",
       "                                                                    OS used  \\\n",
       "gamecode                                                                      \n",
       "roulette                  [Windows7, WindowsXP, Windows8, Windows10, MacOS]   \n",
       "book_of_ra2_gift              [Windows7, Linux, Windows8, Windows10, MacOS]   \n",
       "crazy_monkey_gift                        [Windows7, Windows8, WindowsVista]   \n",
       "fruit_cocktail                           [Windows7, WindowsVista, Windows8]   \n",
       "lucky_ladies_charm2_gift                 [Windows7, WindowsVista, Windows8]   \n",
       "incredible_hulk_gift              [Windows7, WindowsVista, Windows8, MacOS]   \n",
       "book_of_ra2_deluxe                          [Windows7, Windows10, Windows8]   \n",
       "fairy_land                               [Windows7, WindowsVista, Windows8]   \n",
       "roulette_with_track                            [Windows7, Windows10, MacOS]   \n",
       "iron_man_3                                  [MacOS, Windows7, WindowsVista]   \n",
       "\n",
       "                                      Periods of the day  \n",
       "gamecode                                                  \n",
       "roulette                  [night, morning, day, evening]  \n",
       "book_of_ra2_gift          [night, morning, day, evening]  \n",
       "crazy_monkey_gift         [night, morning, day, evening]  \n",
       "fruit_cocktail                     [night, morning, day]  \n",
       "lucky_ladies_charm2_gift                    [night, day]  \n",
       "incredible_hulk_gift                      [morning, day]  \n",
       "book_of_ra2_deluxe                        [morning, day]  \n",
       "fairy_land                                [morning, day]  \n",
       "roulette_with_track                       [morning, day]  \n",
       "iron_man_3                         [night, morning, day]  "
      ]
     },
     "execution_count": 138,
     "metadata": {},
     "output_type": "execute_result"
    }
   ],
   "source": [
    "grouped_gaming[:10]"
   ]
  },
  {
   "cell_type": "code",
   "execution_count": 147,
   "metadata": {
    "collapsed": false
   },
   "outputs": [
    {
     "data": {
      "text/plain": [
       "64"
      ]
     },
     "execution_count": 147,
     "metadata": {},
     "output_type": "execute_result"
    }
   ],
   "source": [
    "cleaned_data.cookie.nunique()"
   ]
  },
  {
   "cell_type": "code",
   "execution_count": 146,
   "metadata": {
    "collapsed": false
   },
   "outputs": [
    {
     "data": {
      "text/plain": [
       "3165"
      ]
     },
     "execution_count": 146,
     "metadata": {},
     "output_type": "execute_result"
    }
   ],
   "source": [
    "data_train.cookie.nunique()"
   ]
  },
  {
   "cell_type": "code",
   "execution_count": 149,
   "metadata": {
    "collapsed": false
   },
   "outputs": [
    {
     "data": {
      "text/plain": [
       "(26254, 19)"
      ]
     },
     "execution_count": 149,
     "metadata": {},
     "output_type": "execute_result"
    }
   ],
   "source": [
    "gaming_data.shape"
   ]
  },
  {
   "cell_type": "code",
   "execution_count": 150,
   "metadata": {
    "collapsed": false
   },
   "outputs": [
    {
     "data": {
      "text/plain": [
       "23520.0"
      ]
     },
     "execution_count": 150,
     "metadata": {},
     "output_type": "execute_result"
    }
   ],
   "source": [
    "24000*0.98"
   ]
  },
  {
   "cell_type": "code",
   "execution_count": null,
   "metadata": {
    "collapsed": true
   },
   "outputs": [],
   "source": []
  },
  {
   "cell_type": "code",
   "execution_count": null,
   "metadata": {
    "collapsed": true
   },
   "outputs": [],
   "source": []
  },
  {
   "cell_type": "code",
   "execution_count": null,
   "metadata": {
    "collapsed": true
   },
   "outputs": [],
   "source": []
  },
  {
   "cell_type": "code",
   "execution_count": null,
   "metadata": {
    "collapsed": true
   },
   "outputs": [],
   "source": []
  },
  {
   "cell_type": "code",
   "execution_count": null,
   "metadata": {
    "collapsed": true
   },
   "outputs": [],
   "source": []
  },
  {
   "cell_type": "code",
   "execution_count": null,
   "metadata": {
    "collapsed": true
   },
   "outputs": [],
   "source": []
  },
  {
   "cell_type": "code",
   "execution_count": null,
   "metadata": {
    "collapsed": true
   },
   "outputs": [],
   "source": []
  }
 ],
 "metadata": {
  "kernelspec": {
   "display_name": "Python 3",
   "language": "python",
   "name": "python3"
  },
  "language_info": {
   "codemirror_mode": {
    "name": "ipython",
    "version": 3
   },
   "file_extension": ".py",
   "mimetype": "text/x-python",
   "name": "python",
   "nbconvert_exporter": "python",
   "pygments_lexer": "ipython3",
   "version": "3.5.2"
  }
 },
 "nbformat": 4,
 "nbformat_minor": 0
}
